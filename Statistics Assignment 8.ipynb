{
 "cells": [
  {
   "cell_type": "code",
   "execution_count": null,
   "metadata": {},
   "outputs": [],
   "source": [
    "1. A crime is committed by one of two suspects, A and B. Initially, there is equal evidence\n",
    "against both of them. In further investigation at the crime scene, it is found that the guilty\n",
    "party had a blood type found in 10% of the population. Suspect A does match this blood\n",
    "type, whereas the blood type of Suspect B is unknown. (a) Given this new information, what\n",
    "is the probability that A is the guilty party? (b) Given this new information, what is the\n",
    "probability that B’s blood type matches that found at the crime scene?"
   ]
  },
  {
   "cell_type": "code",
   "execution_count": null,
   "metadata": {},
   "outputs": [],
   "source": [
    "Let probability of blood type be x:P(x)=x\n",
    "Formula \n",
    "    P(A/x)=(P(x/A)*P(A))/P(x)\n",
    "    where P(x)=P(x/A)*P(A)+P(x/B)*P(B)\n",
    "    \n",
    "    P(x/A)=1 since if A is guilty then probabilty of blood type being found is 100 percent \n",
    "            since A has matched with bloodtype\n",
    "    P(A)=0.5 since both A and B have equal vhance of being guilty\n",
    "    P(x/B)=0.1 since blood type is found in 10 percent of people\n",
    "    P(B)=0.5 since both A and B have equal vhance of being guilty\n",
    "    P(A/x)=(1*0.5)/((1*0.5)+(0.1)*0.5)\n",
    "    P(A/x)=0.5/0.55\n",
    "    P(A/x)=10/11"
   ]
  }
 ],
 "metadata": {
  "kernelspec": {
   "display_name": "Python 3",
   "language": "python",
   "name": "python3"
  },
  "language_info": {
   "codemirror_mode": {
    "name": "ipython",
    "version": 3
   },
   "file_extension": ".py",
   "mimetype": "text/x-python",
   "name": "python",
   "nbconvert_exporter": "python",
   "pygments_lexer": "ipython3",
   "version": "3.8.3"
  }
 },
 "nbformat": 4,
 "nbformat_minor": 4
}
